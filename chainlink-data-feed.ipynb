{
 "cells": [
  {
   "attachments": {},
   "cell_type": "markdown",
   "metadata": {},
   "source": [
    "# Chainlink Data Feed"
   ]
  },
  {
   "cell_type": "code",
   "execution_count": 1,
   "metadata": {},
   "outputs": [],
   "source": [
    "# Import necessary libraries\n",
    "from ethereum import *\n",
    "import gzip\n",
    "import os\n",
    "\n",
    "from IPython.display import display, HTML\n",
    "\n",
    "import pandas as pd\n",
    "import numpy as np\n",
    "from tqdm.notebook import tqdm\n",
    "import pickle\n",
    "\n",
    "# Import the necessary libraries for plotting\n",
    "# from utils_plot import *\n",
    "\n",
    "pd.set_option('display.precision', 18)\n",
    "tqdm.pandas()\n"
   ]
  },
  {
   "cell_type": "code",
   "execution_count": 2,
   "metadata": {},
   "outputs": [],
   "source": [
    "import plotly.express as px\n",
    "import plotly.offline as pyo\n",
    "import plotly.graph_objects as go\n",
    "from plotly.subplots import make_subplots\n"
   ]
  },
  {
   "cell_type": "code",
   "execution_count": 3,
   "metadata": {},
   "outputs": [],
   "source": [
    "dataset_dir = './dataset/'\n",
    "plots_dir = './plots/'\n",
    "os.makedirs(dataset_dir, exist_ok=True)\n",
    "os.makedirs(plots_dir, exist_ok=True)\n"
   ]
  },
  {
   "cell_type": "markdown",
   "metadata": {},
   "source": [
    "## Data Gathering"
   ]
  },
  {
   "cell_type": "code",
   "execution_count": 4,
   "metadata": {},
   "outputs": [],
   "source": [
    "# Loading necessary variables\n",
    "etherscan_api_key = os.environ[\"ETHERSCAN_API_KEY\"]\n",
    "eth_node = os.environ[\"ETHEREUM_NODE_URL\"]\n"
   ]
  },
  {
   "cell_type": "code",
   "execution_count": 5,
   "metadata": {},
   "outputs": [
    {
     "name": "stdout",
     "output_type": "stream",
     "text": [
      "The most recent block number in the node's chain is 16368388\n"
     ]
    }
   ],
   "source": [
    "# Import Web3 library and stablish connection to Ethereum node\n",
    "from web3 import Web3\n",
    "w3 = Web3(Web3.HTTPProvider(eth_node))\n",
    "# w3.isConnected()\n",
    "print(\"The most recent block number in the node's chain is\", w3.eth.blockNumber)\n",
    "# w3.net.listening\n"
   ]
  },
  {
   "cell_type": "code",
   "execution_count": 6,
   "metadata": {},
   "outputs": [
    {
     "name": "stdout",
     "output_type": "stream",
     "text": [
      "12381572 16368388\n"
     ]
    }
   ],
   "source": [
    "# The Chainlink COMP/USD Price Feed was created in block number 10,705,616 at transaction 0x99093a3ff37ce45b4b3f5bebf42405161dffe0ad56ce82d7807a46974dbeed03\n",
    "# https://etherscan.io/tx/0x99093a3ff37ce45b4b3f5bebf42405161dffe0ad56ce82d7807a46974dbeed03\n",
    "# The Chainlink COMP/USD controller was created in block number 123,815,72  at transaction 0xaa7a3641960fcd1f582e63b80ee330e57f3c4a055d22bded2c8c381139377295\n",
    "# https://etherscan.io/tx/0xaa7a3641960fcd1f582e63b80ee330e57f3c4a055d22bded2c8c381139377295\n",
    "block_number_min, block_number_max = 12381572, w3.eth.block_number\n",
    "print(block_number_min, block_number_max)\n"
   ]
  },
  {
   "cell_type": "code",
   "execution_count": 7,
   "metadata": {},
   "outputs": [],
   "source": [
    "# Define the Chainlink COMP/USD contract address\n",
    "chainlink_contract_address = '0xdbd020CAeF83eFd542f4De03e3cF0C28A4428bd5'\n",
    "chainlink_aggregator_address = '0x6eaC850f531d0588c0114f1E93F843B78669E6d2'\n",
    "# 0x68a371D12213a1EbDd5fa9a2EE5519E6B73F1E37\n",
    "chainlink_price_updated_topic = '0x0559884fd3a460db3073b7fc896cc77986f16e378210ded43186175bf646fc5f'\n",
    "# Get contract object\n",
    "chainlink_contract = get_contract(\n",
    "    w3, contract_address=chainlink_aggregator_address, etherscan_api_key=etherscan_api_key)\n"
   ]
  },
  {
   "cell_type": "code",
   "execution_count": 8,
   "metadata": {},
   "outputs": [
    {
     "name": "stdout",
     "output_type": "stream",
     "text": [
      "AddedAccess\n",
      "AnswerUpdated\n",
      "BillingAccessControllerSet\n",
      "BillingSet\n",
      "CheckAccessDisabled\n",
      "CheckAccessEnabled\n",
      "ConfigSet\n",
      "NewRound\n",
      "NewTransmission\n",
      "OraclePaid\n",
      "OwnershipTransferRequested\n",
      "OwnershipTransferred\n",
      "PayeeshipTransferRequested\n",
      "PayeeshipTransferred\n",
      "RemovedAccess\n",
      "RequesterAccessControllerSet\n",
      "RoundRequested\n",
      "ValidatorConfigSet\n"
     ]
    }
   ],
   "source": [
    "# Get the events available in the Chainlink (COMP/USD) data feed contract\n",
    "# If you only need the COMP/USD prices then you can gather only the AnswerUpdated event.\n",
    "for event in chainlink_contract.events:\n",
    "    print(event.event_name)\n"
   ]
  },
  {
   "cell_type": "code",
   "execution_count": 9,
   "metadata": {},
   "outputs": [
    {
     "name": "stdout",
     "output_type": "stream",
     "text": [
      "AddedAccess\n"
     ]
    },
    {
     "data": {
      "application/vnd.jupyter.widget-view+json": {
       "model_id": "89e0401823ac4f56900b1a095aac4e00",
       "version_major": 2,
       "version_minor": 0
      },
      "text/plain": [
       "AddedAccess:   0%|          | 0/798 [00:00<?, ?it/s]"
      ]
     },
     "metadata": {},
     "output_type": "display_data"
    },
    {
     "name": "stdout",
     "output_type": "stream",
     "text": [
      "AnswerUpdated\n"
     ]
    },
    {
     "data": {
      "application/vnd.jupyter.widget-view+json": {
       "model_id": "d3385c5403f646eeb54420ce1edec224",
       "version_major": 2,
       "version_minor": 0
      },
      "text/plain": [
       "AnswerUpdated:   0%|          | 0/798 [00:00<?, ?it/s]"
      ]
     },
     "metadata": {},
     "output_type": "display_data"
    },
    {
     "name": "stdout",
     "output_type": "stream",
     "text": [
      "BillingAccessControllerSet\n"
     ]
    },
    {
     "data": {
      "application/vnd.jupyter.widget-view+json": {
       "model_id": "712e84f3f3f34fec8de73b62f2fcf517",
       "version_major": 2,
       "version_minor": 0
      },
      "text/plain": [
       "BillingAccessControllerSet:   0%|          | 0/798 [00:00<?, ?it/s]"
      ]
     },
     "metadata": {},
     "output_type": "display_data"
    },
    {
     "name": "stdout",
     "output_type": "stream",
     "text": [
      "BillingSet\n"
     ]
    },
    {
     "data": {
      "application/vnd.jupyter.widget-view+json": {
       "model_id": "361d1af0d84f4b0dbad4d8057cedb5d6",
       "version_major": 2,
       "version_minor": 0
      },
      "text/plain": [
       "BillingSet:   0%|          | 0/798 [00:00<?, ?it/s]"
      ]
     },
     "metadata": {},
     "output_type": "display_data"
    },
    {
     "name": "stdout",
     "output_type": "stream",
     "text": [
      "CheckAccessDisabled\n"
     ]
    },
    {
     "data": {
      "application/vnd.jupyter.widget-view+json": {
       "model_id": "b5866461e5ff45469adaacc2e27b7126",
       "version_major": 2,
       "version_minor": 0
      },
      "text/plain": [
       "CheckAccessDisabled:   0%|          | 0/798 [00:00<?, ?it/s]"
      ]
     },
     "metadata": {},
     "output_type": "display_data"
    },
    {
     "name": "stdout",
     "output_type": "stream",
     "text": [
      "CheckAccessEnabled\n"
     ]
    },
    {
     "data": {
      "application/vnd.jupyter.widget-view+json": {
       "model_id": "2516239c615342bc9a39c4b01afb2fbe",
       "version_major": 2,
       "version_minor": 0
      },
      "text/plain": [
       "CheckAccessEnabled:   0%|          | 0/798 [00:00<?, ?it/s]"
      ]
     },
     "metadata": {},
     "output_type": "display_data"
    },
    {
     "name": "stdout",
     "output_type": "stream",
     "text": [
      "ConfigSet\n"
     ]
    },
    {
     "data": {
      "application/vnd.jupyter.widget-view+json": {
       "model_id": "ab8c68b4aa7c437688f54dc517adc2dd",
       "version_major": 2,
       "version_minor": 0
      },
      "text/plain": [
       "ConfigSet:   0%|          | 0/798 [00:00<?, ?it/s]"
      ]
     },
     "metadata": {},
     "output_type": "display_data"
    },
    {
     "name": "stdout",
     "output_type": "stream",
     "text": [
      "NewRound\n"
     ]
    },
    {
     "data": {
      "application/vnd.jupyter.widget-view+json": {
       "model_id": "1a7ab50801704cffb4d36c81525ebef5",
       "version_major": 2,
       "version_minor": 0
      },
      "text/plain": [
       "NewRound:   0%|          | 0/798 [00:00<?, ?it/s]"
      ]
     },
     "metadata": {},
     "output_type": "display_data"
    },
    {
     "name": "stdout",
     "output_type": "stream",
     "text": [
      "NewTransmission\n"
     ]
    },
    {
     "data": {
      "application/vnd.jupyter.widget-view+json": {
       "model_id": "ed2d6fa745924108bfabc440a0ef41fc",
       "version_major": 2,
       "version_minor": 0
      },
      "text/plain": [
       "NewTransmission:   0%|          | 0/798 [00:00<?, ?it/s]"
      ]
     },
     "metadata": {},
     "output_type": "display_data"
    },
    {
     "name": "stdout",
     "output_type": "stream",
     "text": [
      "OraclePaid\n"
     ]
    },
    {
     "data": {
      "application/vnd.jupyter.widget-view+json": {
       "model_id": "70d299aa45d7436e9259ee749a6646c0",
       "version_major": 2,
       "version_minor": 0
      },
      "text/plain": [
       "OraclePaid:   0%|          | 0/798 [00:00<?, ?it/s]"
      ]
     },
     "metadata": {},
     "output_type": "display_data"
    },
    {
     "name": "stdout",
     "output_type": "stream",
     "text": [
      "OwnershipTransferRequested\n"
     ]
    },
    {
     "data": {
      "application/vnd.jupyter.widget-view+json": {
       "model_id": "288ea95bb64b45f7a78e7331fa1e4ec0",
       "version_major": 2,
       "version_minor": 0
      },
      "text/plain": [
       "OwnershipTransferRequested:   0%|          | 0/798 [00:00<?, ?it/s]"
      ]
     },
     "metadata": {},
     "output_type": "display_data"
    },
    {
     "name": "stdout",
     "output_type": "stream",
     "text": [
      "OwnershipTransferred\n"
     ]
    },
    {
     "data": {
      "application/vnd.jupyter.widget-view+json": {
       "model_id": "fd0c9d457382497b878c76521ba6dd9a",
       "version_major": 2,
       "version_minor": 0
      },
      "text/plain": [
       "OwnershipTransferred:   0%|          | 0/798 [00:00<?, ?it/s]"
      ]
     },
     "metadata": {},
     "output_type": "display_data"
    },
    {
     "name": "stdout",
     "output_type": "stream",
     "text": [
      "PayeeshipTransferRequested\n"
     ]
    },
    {
     "data": {
      "application/vnd.jupyter.widget-view+json": {
       "model_id": "26661150c692424fa1eecd72be4006cb",
       "version_major": 2,
       "version_minor": 0
      },
      "text/plain": [
       "PayeeshipTransferRequested:   0%|          | 0/798 [00:00<?, ?it/s]"
      ]
     },
     "metadata": {},
     "output_type": "display_data"
    },
    {
     "name": "stdout",
     "output_type": "stream",
     "text": [
      "PayeeshipTransferred\n"
     ]
    },
    {
     "data": {
      "application/vnd.jupyter.widget-view+json": {
       "model_id": "e12593a23ff44eec926c7cd9bf4efbf7",
       "version_major": 2,
       "version_minor": 0
      },
      "text/plain": [
       "PayeeshipTransferred:   0%|          | 0/798 [00:00<?, ?it/s]"
      ]
     },
     "metadata": {},
     "output_type": "display_data"
    },
    {
     "name": "stdout",
     "output_type": "stream",
     "text": [
      "RemovedAccess\n"
     ]
    },
    {
     "data": {
      "application/vnd.jupyter.widget-view+json": {
       "model_id": "e4d9b178eaa843638f05ea6199a7eb7a",
       "version_major": 2,
       "version_minor": 0
      },
      "text/plain": [
       "RemovedAccess:   0%|          | 0/798 [00:00<?, ?it/s]"
      ]
     },
     "metadata": {},
     "output_type": "display_data"
    },
    {
     "name": "stdout",
     "output_type": "stream",
     "text": [
      "RequesterAccessControllerSet\n"
     ]
    },
    {
     "data": {
      "application/vnd.jupyter.widget-view+json": {
       "model_id": "b889a88b72004635b2a044774d6a613c",
       "version_major": 2,
       "version_minor": 0
      },
      "text/plain": [
       "RequesterAccessControllerSet:   0%|          | 0/798 [00:00<?, ?it/s]"
      ]
     },
     "metadata": {},
     "output_type": "display_data"
    },
    {
     "name": "stdout",
     "output_type": "stream",
     "text": [
      "RoundRequested\n"
     ]
    },
    {
     "data": {
      "application/vnd.jupyter.widget-view+json": {
       "model_id": "4b2081a7623444338b7119ea3e707f13",
       "version_major": 2,
       "version_minor": 0
      },
      "text/plain": [
       "RoundRequested:   0%|          | 0/798 [00:00<?, ?it/s]"
      ]
     },
     "metadata": {},
     "output_type": "display_data"
    },
    {
     "name": "stdout",
     "output_type": "stream",
     "text": [
      "ValidatorConfigSet\n"
     ]
    },
    {
     "data": {
      "application/vnd.jupyter.widget-view+json": {
       "model_id": "8a4bc0bb10d44b43858175726ea9eef2",
       "version_major": 2,
       "version_minor": 0
      },
      "text/plain": [
       "ValidatorConfigSet:   0%|          | 0/798 [00:00<?, ?it/s]"
      ]
     },
     "metadata": {},
     "output_type": "display_data"
    }
   ],
   "source": [
    "chainlink_events = get_all_events_from_contract(\n",
    "    contract=chainlink_contract, start_block=block_number_min, end_block=block_number_max, max_workers=25)\n"
   ]
  },
  {
   "cell_type": "code",
   "execution_count": 17,
   "metadata": {},
   "outputs": [],
   "source": [
    "with gzip.open(dataset_dir+'chainlink_comp_to_usd_events.pickle.gz', 'wb') as file:\n",
    "    pickle.dump(chainlink_events, file)\n"
   ]
  },
  {
   "attachments": {},
   "cell_type": "markdown",
   "metadata": {},
   "source": [
    "## Chainlink data feed for COMP to USD"
   ]
  },
  {
   "cell_type": "code",
   "execution_count": 4,
   "metadata": {},
   "outputs": [],
   "source": [
    "with gzip.open(dataset_dir+'chainlink_comp_to_usd_events.pickle.gz', 'rb') as file:\n",
    "    chainlink_events = pickle.load(file)\n"
   ]
  },
  {
   "cell_type": "code",
   "execution_count": 5,
   "metadata": {},
   "outputs": [],
   "source": [
    "def parse_common_attributes(event):\n",
    "    data = dict()\n",
    "    data['blockNumber'] = event['blockNumber']\n",
    "    data['transactionHash'] = event['transactionHash'].hex().lower()\n",
    "    data['blockHash'] = event['blockHash'].hex().lower()\n",
    "    data['address'] = event['address'].lower()\n",
    "    data['transactionIndex'] = event['transactionIndex']\n",
    "    data['logIndex'] = event['logIndex']\n",
    "    data['event'] = event['event']\n",
    "    return data\n",
    "\n",
    "\n",
    "def answer_updated_to_dataframe(events):\n",
    "    # Convert AnswerUpdated events data to dataframe\n",
    "    df = list()\n",
    "    for event in tqdm(events, desc='Loading AnswerUpdated events'):\n",
    "        data = parse_common_attributes(event)\n",
    "\n",
    "        data['current'] = event['args']['current'] / 1e8\n",
    "        data['roundId'] = event['args']['roundId']\n",
    "        data['updatedAt'] = pd.to_datetime(\n",
    "            event['args']['updatedAt'], unit='s')\n",
    "        df.append(data)\n",
    "    return pd.DataFrame(df)\n"
   ]
  },
  {
   "cell_type": "code",
   "execution_count": 6,
   "metadata": {},
   "outputs": [],
   "source": [
    "def plot_ohlc(series, title=''):\n",
    "    fig = go.Figure()\n",
    "    fig.add_trace(go.Candlestick(x=series.index,\n",
    "                                 open=series['open'],\n",
    "                                 high=series['high'],\n",
    "                                 low=series['low'],\n",
    "                                 close=series['close'], name='OHLC'))\n",
    "    fig.update_layout(autosize=True, title=title)\n",
    "    fig.update_layout(yaxis_title='Price USD',\n",
    "                      xaxis_rangeslider_visible=False, template='plotly_white')\n",
    "    return fig\n"
   ]
  },
  {
   "cell_type": "code",
   "execution_count": 7,
   "metadata": {},
   "outputs": [
    {
     "name": "stdout",
     "output_type": "stream",
     "text": [
      "There are 2 AddedAccess events\n",
      "There are 21084 AnswerUpdated events\n",
      "There are 1 BillingAccessControllerSet events\n",
      "There are 86 BillingSet events\n",
      "There are 0 CheckAccessDisabled events\n",
      "There are 0 CheckAccessEnabled events\n",
      "There are 5 ConfigSet events\n",
      "There are 21084 NewRound events\n",
      "There are 21084 NewTransmission events\n",
      "There are 1558 OraclePaid events\n",
      "There are 1 OwnershipTransferRequested events\n",
      "There are 1 OwnershipTransferred events\n",
      "There are 1 PayeeshipTransferRequested events\n",
      "There are 22 PayeeshipTransferred events\n",
      "There are 0 RemovedAccess events\n",
      "There are 1 RequesterAccessControllerSet events\n",
      "There are 0 RoundRequested events\n",
      "There are 2 ValidatorConfigSet events\n"
     ]
    }
   ],
   "source": [
    "for event_name in chainlink_events:\n",
    "    print(\n",
    "        f\"There are {len(chainlink_events[event_name])} {event_name} events\")\n"
   ]
  },
  {
   "cell_type": "code",
   "execution_count": 8,
   "metadata": {},
   "outputs": [
    {
     "data": {
      "application/vnd.jupyter.widget-view+json": {
       "model_id": "95c803a674bc4399b00f47e74fe437d2",
       "version_major": 2,
       "version_minor": 0
      },
      "text/plain": [
       "Loading AnswerUpdated events:   0%|          | 0/21084 [00:00<?, ?it/s]"
      ]
     },
     "metadata": {},
     "output_type": "display_data"
    },
    {
     "name": "stdout",
     "output_type": "stream",
     "text": [
      "There are 21084 AnswerUpdated events\n"
     ]
    },
    {
     "data": {
      "text/html": [
       "<div>\n",
       "<style scoped>\n",
       "    .dataframe tbody tr th:only-of-type {\n",
       "        vertical-align: middle;\n",
       "    }\n",
       "\n",
       "    .dataframe tbody tr th {\n",
       "        vertical-align: top;\n",
       "    }\n",
       "\n",
       "    .dataframe thead th {\n",
       "        text-align: right;\n",
       "    }\n",
       "</style>\n",
       "<table border=\"1\" class=\"dataframe\">\n",
       "  <thead>\n",
       "    <tr style=\"text-align: right;\">\n",
       "      <th></th>\n",
       "      <th>blockNumber</th>\n",
       "      <th>transactionHash</th>\n",
       "      <th>blockHash</th>\n",
       "      <th>address</th>\n",
       "      <th>transactionIndex</th>\n",
       "      <th>logIndex</th>\n",
       "      <th>event</th>\n",
       "      <th>current</th>\n",
       "      <th>roundId</th>\n",
       "      <th>updatedAt</th>\n",
       "    </tr>\n",
       "  </thead>\n",
       "  <tbody>\n",
       "    <tr>\n",
       "      <th>0</th>\n",
       "      <td>12419231</td>\n",
       "      <td>0x0a082e399f10fcd6d47deda398c5aa22162eaed3aa51...</td>\n",
       "      <td>0xf21ee951c7ad95a01b70a7cac47d473633db47785871...</td>\n",
       "      <td>0x6eac850f531d0588c0114f1e93f843b78669e6d2</td>\n",
       "      <td>218</td>\n",
       "      <td>153</td>\n",
       "      <td>AnswerUpdated</td>\n",
       "      <td>836.798851639999952567</td>\n",
       "      <td>1</td>\n",
       "      <td>2021-05-12 11:02:54</td>\n",
       "    </tr>\n",
       "    <tr>\n",
       "      <th>1</th>\n",
       "      <td>12419238</td>\n",
       "      <td>0xc9d45a113bddc1f1aed347724af4a494d748d9863278...</td>\n",
       "      <td>0x59803088c87940b78eea238e86478fd50c3bdce7530c...</td>\n",
       "      <td>0x6eac850f531d0588c0114f1e93f843b78669e6d2</td>\n",
       "      <td>165</td>\n",
       "      <td>307</td>\n",
       "      <td>AnswerUpdated</td>\n",
       "      <td>836.798851639999952567</td>\n",
       "      <td>2</td>\n",
       "      <td>2021-05-12 11:05:04</td>\n",
       "    </tr>\n",
       "    <tr>\n",
       "      <th>2</th>\n",
       "      <td>12419325</td>\n",
       "      <td>0xf8d34023ca01a20514e28256eca68d2ede5de535e5b4...</td>\n",
       "      <td>0xa1c28ca6893edd3caf6c03db2214d97b1340bcd51cea...</td>\n",
       "      <td>0x6eac850f531d0588c0114f1e93f843b78669e6d2</td>\n",
       "      <td>169</td>\n",
       "      <td>100</td>\n",
       "      <td>AnswerUpdated</td>\n",
       "      <td>845.341357389999984662</td>\n",
       "      <td>3</td>\n",
       "      <td>2021-05-12 11:23:20</td>\n",
       "    </tr>\n",
       "    <tr>\n",
       "      <th>3</th>\n",
       "      <td>12419646</td>\n",
       "      <td>0x13cfa4888c84c9d39e537b5bea497221c42a836db10b...</td>\n",
       "      <td>0x9eee25a9f9d978f9f52c07f8ebdde0ac90794fd7551e...</td>\n",
       "      <td>0x6eac850f531d0588c0114f1e93f843b78669e6d2</td>\n",
       "      <td>141</td>\n",
       "      <td>118</td>\n",
       "      <td>AnswerUpdated</td>\n",
       "      <td>835.483673990000056619</td>\n",
       "      <td>4</td>\n",
       "      <td>2021-05-12 12:37:29</td>\n",
       "    </tr>\n",
       "    <tr>\n",
       "      <th>4</th>\n",
       "      <td>12419840</td>\n",
       "      <td>0x12828b6698a649ff14b300f05d57bcc6d81979d371c4...</td>\n",
       "      <td>0xbb99fb5a0c8648ef11a18d85ff713888797a2cced246...</td>\n",
       "      <td>0x6eac850f531d0588c0114f1e93f843b78669e6d2</td>\n",
       "      <td>30</td>\n",
       "      <td>46</td>\n",
       "      <td>AnswerUpdated</td>\n",
       "      <td>826.485379999999963729</td>\n",
       "      <td>5</td>\n",
       "      <td>2021-05-12 13:26:18</td>\n",
       "    </tr>\n",
       "  </tbody>\n",
       "</table>\n",
       "</div>"
      ],
      "text/plain": [
       "   blockNumber                                    transactionHash  \\\n",
       "0     12419231  0x0a082e399f10fcd6d47deda398c5aa22162eaed3aa51...   \n",
       "1     12419238  0xc9d45a113bddc1f1aed347724af4a494d748d9863278...   \n",
       "2     12419325  0xf8d34023ca01a20514e28256eca68d2ede5de535e5b4...   \n",
       "3     12419646  0x13cfa4888c84c9d39e537b5bea497221c42a836db10b...   \n",
       "4     12419840  0x12828b6698a649ff14b300f05d57bcc6d81979d371c4...   \n",
       "\n",
       "                                           blockHash  \\\n",
       "0  0xf21ee951c7ad95a01b70a7cac47d473633db47785871...   \n",
       "1  0x59803088c87940b78eea238e86478fd50c3bdce7530c...   \n",
       "2  0xa1c28ca6893edd3caf6c03db2214d97b1340bcd51cea...   \n",
       "3  0x9eee25a9f9d978f9f52c07f8ebdde0ac90794fd7551e...   \n",
       "4  0xbb99fb5a0c8648ef11a18d85ff713888797a2cced246...   \n",
       "\n",
       "                                      address  transactionIndex  logIndex  \\\n",
       "0  0x6eac850f531d0588c0114f1e93f843b78669e6d2               218       153   \n",
       "1  0x6eac850f531d0588c0114f1e93f843b78669e6d2               165       307   \n",
       "2  0x6eac850f531d0588c0114f1e93f843b78669e6d2               169       100   \n",
       "3  0x6eac850f531d0588c0114f1e93f843b78669e6d2               141       118   \n",
       "4  0x6eac850f531d0588c0114f1e93f843b78669e6d2                30        46   \n",
       "\n",
       "           event                 current  roundId           updatedAt  \n",
       "0  AnswerUpdated  836.798851639999952567        1 2021-05-12 11:02:54  \n",
       "1  AnswerUpdated  836.798851639999952567        2 2021-05-12 11:05:04  \n",
       "2  AnswerUpdated  845.341357389999984662        3 2021-05-12 11:23:20  \n",
       "3  AnswerUpdated  835.483673990000056619        4 2021-05-12 12:37:29  \n",
       "4  AnswerUpdated  826.485379999999963729        5 2021-05-12 13:26:18  "
      ]
     },
     "execution_count": 8,
     "metadata": {},
     "output_type": "execute_result"
    }
   ],
   "source": [
    "chainlink_price_df = answer_updated_to_dataframe(\n",
    "    chainlink_events['AnswerUpdated'])\n",
    "print(\n",
    "    f\"There are {chainlink_price_df.shape[0]} AnswerUpdated events\")\n",
    "chainlink_price_df.head()\n"
   ]
  },
  {
   "cell_type": "code",
   "execution_count": 9,
   "metadata": {},
   "outputs": [],
   "source": [
    "window = {'period': '1W', 'days': 7}"
   ]
  },
  {
   "cell_type": "code",
   "execution_count": 10,
   "metadata": {},
   "outputs": [
    {
     "data": {
      "application/vnd.plotly.v1+json": {
       "config": {
        "plotlyServerURL": "https://plot.ly"
       },
       "data": [
        {
         "close": [
          684.03660298,
          342.6156267,
          405.32314307,
          386.32,
          323.49,
          292.39975836,
          255.89982565,
          444.45887481,
          432.86211219,
          381.24201761,
          390.88689477,
          411.35309604,
          467.65,
          491.12,
          459.5938795,
          419.57180059,
          510.68589506,
          405.4905262,
          391.35444444,
          350.62097167,
          326.19631821,
          306.9473259,
          310.01972022,
          307.76877296,
          343.82,
          364.48308417,
          347.02665778,
          306.11345068,
          286.98,
          211.48251624,
          199.41194832,
          195.20909343,
          235.73295549,
          211.42,
          192.69470149,
          191.93033923,
          128.49,
          118.54284504,
          140.83590757,
          125.68491627,
          115.45127169,
          106.63056089,
          102.1,
          99.04853563,
          116.08,
          125.0442805,
          172.48561948,
          135.04147975,
          141.95204362,
          129.86,
          105.63281223,
          98.03370618,
          74.41348036,
          71.29459957,
          57.06,
          58.01585739,
          41.75434182,
          31.92504139,
          50.90261301,
          49.34513572,
          53.12096145,
          55.3298072,
          55.47329547,
          57.27623949,
          62.68702887,
          63.15738353,
          51.1287922,
          44.2250602,
          48.20141045,
          55.91,
          49.54852047,
          61.59659021,
          58.87,
          59.171413,
          54.96,
          51.36857872,
          50.27,
          48.79775919,
          38.73,
          37.61978698,
          37.46772264,
          37.59903375,
          37.9063694,
          33.85124819,
          31.77594324,
          31.56,
          34.92068932,
          36.07
         ],
         "high": [
          857.0357874,
          722.99651515,
          462.82866973,
          457.06,
          410.24150692,
          348.12978018,
          291.41352868,
          463.44911332,
          526.86318318,
          439.24064253,
          426.03615112,
          433.16759783,
          510.70532259,
          493.78664788,
          526.54,
          482.70538674,
          523.56239302,
          525.52974636,
          454.52773115,
          387.32801536,
          371.90313483,
          332.28,
          328.83653304,
          333.97910695,
          356.53518008,
          395.86226151,
          368.83383142,
          351.32214032,
          302.64720911,
          294.54866985,
          230.11867972,
          214.32,
          238.84581127,
          246.55,
          242.55884461,
          201.27891911,
          191.64,
          135.32,
          142.28352474,
          149.7193287,
          137.39315896,
          119.31397421,
          127.33212674,
          111.416481,
          123.12789401,
          125.66317326,
          172.63286815,
          170.71078044,
          154.97628957,
          148.92293226,
          133.71585945,
          116.63919974,
          99.00782273,
          74.88744609,
          74.78561479,
          69.24,
          61.45,
          41.32322973,
          55.07281524,
          53.2494155,
          57.6168511,
          58.37446913,
          63.36881679,
          61.41897236,
          65.6284145,
          68.20500763,
          64.01903836,
          53.67,
          52.06436678,
          56.78499743,
          61.2116315,
          64.66024901,
          65.56,
          60.88820172,
          59.80511657,
          56.03430008,
          53.95461759,
          52.88,
          50.81356157,
          42.94478692,
          39.07968792,
          38.64589434,
          40.16,
          40.20983535,
          34.29,
          33.29,
          34.92068932,
          36.07729649
         ],
         "low": [
          639.41577413,
          271.56954406,
          333.37505573,
          379.78167083,
          281.9865575,
          260.65033886,
          198.62230868,
          250.97884172,
          389.82,
          363.4163545,
          312.1057633,
          377.85515758,
          389.04038309,
          441.96294731,
          421.03288118,
          392.93676354,
          406.95379407,
          373.67478145,
          364.24798368,
          307.40785316,
          284.12100976,
          292.28,
          288.72241806,
          300.55470337,
          298.80878783,
          326.75759288,
          315.37436005,
          290.20455152,
          248.71131961,
          193.14882462,
          182.57717391,
          175.85991494,
          183.70505885,
          194.26732054,
          182.44612044,
          177.48237656,
          113.63997256,
          111.04372336,
          113.41,
          123.37274908,
          113.35835003,
          94.2964568,
          102.1,
          98.61,
          98.93620251,
          112.42,
          123.83188012,
          132.64336447,
          117.12,
          129.11378484,
          101.66281134,
          96.01,
          53.31323002,
          62.08098104,
          54.50450423,
          55.32858335,
          40.80045082,
          26.6180486,
          30.36071071,
          43.40749166,
          45.28025143,
          44.38236262,
          54.02734046,
          46.99623982,
          54.78181613,
          58.28546388,
          48.38,
          44.2250602,
          43.78132922,
          44.11,
          48.46166165,
          48.52,
          58.41,
          57.57343387,
          52.01638983,
          47.5957807,
          49.46,
          45.61696972,
          33.47825316,
          35.74832465,
          36.08577117,
          35.90225961,
          36.68188185,
          33.35770552,
          31.33097929,
          29.96727125,
          30.91133131,
          35.21543639
         ],
         "name": "OHLC",
         "open": [
          836.79885164,
          676.24975435,
          346.21,
          410.07835818,
          390.22476311,
          320.16,
          291.41352868,
          256.38,
          443.30217839,
          437.33777715,
          377.41747089,
          394.92734869,
          407.22301778,
          462.28962202,
          490.60209907,
          458.66,
          418.6822738,
          508.17896403,
          406.61524737,
          387.32801536,
          354.16225907,
          326.22720144,
          303.70598889,
          309.87277095,
          308.80101726,
          345.28630222,
          361.91711333,
          345.51806275,
          302.64720911,
          287.32794795,
          208.90382149,
          200.32,
          193.0313236,
          235.57,
          209.22532122,
          194.67137171,
          191.64,
          127.51,
          117.81018217,
          139.24338814,
          124.6,
          114.2815262,
          106.45455048,
          101.06614012,
          98.93620251,
          115.42,
          125.574875,
          170.71078044,
          133.67611553,
          143.39513323,
          128.87476089,
          106.81,
          97.7677394,
          73.62835263,
          70.50796722,
          56.50184182,
          58.60008561,
          41.32322973,
          31.51097124,
          50.76751705,
          48.80993075,
          53.2316804,
          54.75793127,
          55.11924006,
          57.87244951,
          63.42171235,
          63.22531084,
          50.59630174,
          43.78132922,
          48.57452165,
          55.34343132,
          49.41,
          62.01504397,
          58.20463495,
          59.21027033,
          54.69,
          51.1585042,
          50.7301616,
          48.84563313,
          38.31303415,
          37.53,
          37.39641155,
          37.72722479,
          37.86142195,
          34.10641111,
          32.00457905,
          31.37361808,
          35.21543639
         ],
         "type": "candlestick",
         "x": [
          "2021-05-16T00:00:00",
          "2021-05-23T00:00:00",
          "2021-05-30T00:00:00",
          "2021-06-06T00:00:00",
          "2021-06-13T00:00:00",
          "2021-06-20T00:00:00",
          "2021-06-27T00:00:00",
          "2021-07-04T00:00:00",
          "2021-07-11T00:00:00",
          "2021-07-18T00:00:00",
          "2021-07-25T00:00:00",
          "2021-08-01T00:00:00",
          "2021-08-08T00:00:00",
          "2021-08-15T00:00:00",
          "2021-08-22T00:00:00",
          "2021-08-29T00:00:00",
          "2021-09-05T00:00:00",
          "2021-09-12T00:00:00",
          "2021-09-19T00:00:00",
          "2021-09-26T00:00:00",
          "2021-10-03T00:00:00",
          "2021-10-10T00:00:00",
          "2021-10-17T00:00:00",
          "2021-10-24T00:00:00",
          "2021-10-31T00:00:00",
          "2021-11-07T00:00:00",
          "2021-11-14T00:00:00",
          "2021-11-21T00:00:00",
          "2021-11-28T00:00:00",
          "2021-12-05T00:00:00",
          "2021-12-12T00:00:00",
          "2021-12-19T00:00:00",
          "2021-12-26T00:00:00",
          "2022-01-02T00:00:00",
          "2022-01-09T00:00:00",
          "2022-01-16T00:00:00",
          "2022-01-23T00:00:00",
          "2022-01-30T00:00:00",
          "2022-02-06T00:00:00",
          "2022-02-13T00:00:00",
          "2022-02-20T00:00:00",
          "2022-02-27T00:00:00",
          "2022-03-06T00:00:00",
          "2022-03-13T00:00:00",
          "2022-03-20T00:00:00",
          "2022-03-27T00:00:00",
          "2022-04-03T00:00:00",
          "2022-04-10T00:00:00",
          "2022-04-17T00:00:00",
          "2022-04-24T00:00:00",
          "2022-05-01T00:00:00",
          "2022-05-08T00:00:00",
          "2022-05-15T00:00:00",
          "2022-05-22T00:00:00",
          "2022-05-29T00:00:00",
          "2022-06-05T00:00:00",
          "2022-06-12T00:00:00",
          "2022-06-19T00:00:00",
          "2022-06-26T00:00:00",
          "2022-07-03T00:00:00",
          "2022-07-10T00:00:00",
          "2022-07-17T00:00:00",
          "2022-07-24T00:00:00",
          "2022-07-31T00:00:00",
          "2022-08-07T00:00:00",
          "2022-08-14T00:00:00",
          "2022-08-21T00:00:00",
          "2022-08-28T00:00:00",
          "2022-09-04T00:00:00",
          "2022-09-11T00:00:00",
          "2022-09-18T00:00:00",
          "2022-09-25T00:00:00",
          "2022-10-02T00:00:00",
          "2022-10-09T00:00:00",
          "2022-10-16T00:00:00",
          "2022-10-23T00:00:00",
          "2022-10-30T00:00:00",
          "2022-11-06T00:00:00",
          "2022-11-13T00:00:00",
          "2022-11-20T00:00:00",
          "2022-11-27T00:00:00",
          "2022-12-04T00:00:00",
          "2022-12-11T00:00:00",
          "2022-12-18T00:00:00",
          "2022-12-25T00:00:00",
          "2023-01-01T00:00:00",
          "2023-01-08T00:00:00",
          "2023-01-15T00:00:00"
         ]
        },
        {
         "line": {
          "color": "#42bbf1",
          "width": 4
         },
         "mode": "lines",
         "name": "Price",
         "type": "scatter",
         "x": [
          "2021-05-12T00:00:00",
          "2021-05-14T00:00:00",
          "2021-05-16T00:00:00",
          "2021-05-18T00:00:00",
          "2021-05-20T00:00:00",
          "2021-05-22T00:00:00",
          "2021-05-24T00:00:00",
          "2021-05-26T00:00:00",
          "2021-05-28T00:00:00",
          "2021-05-30T00:00:00",
          "2021-06-01T00:00:00",
          "2021-06-03T00:00:00",
          "2021-06-05T00:00:00",
          "2021-06-07T00:00:00",
          "2021-06-09T00:00:00",
          "2021-06-11T00:00:00",
          "2021-06-13T00:00:00",
          "2021-06-15T00:00:00",
          "2021-06-17T00:00:00",
          "2021-06-19T00:00:00",
          "2021-06-21T00:00:00",
          "2021-06-23T00:00:00",
          "2021-06-25T00:00:00",
          "2021-06-27T00:00:00",
          "2021-06-29T00:00:00",
          "2021-07-01T00:00:00",
          "2021-07-03T00:00:00",
          "2021-07-05T00:00:00",
          "2021-07-07T00:00:00",
          "2021-07-09T00:00:00",
          "2021-07-11T00:00:00",
          "2021-07-13T00:00:00",
          "2021-07-15T00:00:00",
          "2021-07-17T00:00:00",
          "2021-07-19T00:00:00",
          "2021-07-21T00:00:00",
          "2021-07-23T00:00:00",
          "2021-07-25T00:00:00",
          "2021-07-27T00:00:00",
          "2021-07-29T00:00:00",
          "2021-07-31T00:00:00",
          "2021-08-02T00:00:00",
          "2021-08-04T00:00:00",
          "2021-08-06T00:00:00",
          "2021-08-08T00:00:00",
          "2021-08-10T00:00:00",
          "2021-08-12T00:00:00",
          "2021-08-14T00:00:00",
          "2021-08-16T00:00:00",
          "2021-08-18T00:00:00",
          "2021-08-20T00:00:00",
          "2021-08-22T00:00:00",
          "2021-08-24T00:00:00",
          "2021-08-26T00:00:00",
          "2021-08-28T00:00:00",
          "2021-08-30T00:00:00",
          "2021-09-01T00:00:00",
          "2021-09-03T00:00:00",
          "2021-09-05T00:00:00",
          "2021-09-07T00:00:00",
          "2021-09-09T00:00:00",
          "2021-09-11T00:00:00",
          "2021-09-13T00:00:00",
          "2021-09-15T00:00:00",
          "2021-09-17T00:00:00",
          "2021-09-19T00:00:00",
          "2021-09-21T00:00:00",
          "2021-09-23T00:00:00",
          "2021-09-25T00:00:00",
          "2021-09-27T00:00:00",
          "2021-09-29T00:00:00",
          "2021-10-01T00:00:00",
          "2021-10-03T00:00:00",
          "2021-10-05T00:00:00",
          "2021-10-07T00:00:00",
          "2021-10-09T00:00:00",
          "2021-10-11T00:00:00",
          "2021-10-13T00:00:00",
          "2021-10-15T00:00:00",
          "2021-10-17T00:00:00",
          "2021-10-19T00:00:00",
          "2021-10-21T00:00:00",
          "2021-10-23T00:00:00",
          "2021-10-25T00:00:00",
          "2021-10-27T00:00:00",
          "2021-10-29T00:00:00",
          "2021-10-31T00:00:00",
          "2021-11-02T00:00:00",
          "2021-11-04T00:00:00",
          "2021-11-06T00:00:00",
          "2021-11-08T00:00:00",
          "2021-11-10T00:00:00",
          "2021-11-12T00:00:00",
          "2021-11-14T00:00:00",
          "2021-11-16T00:00:00",
          "2021-11-18T00:00:00",
          "2021-11-20T00:00:00",
          "2021-11-22T00:00:00",
          "2021-11-24T00:00:00",
          "2021-11-26T00:00:00",
          "2021-11-28T00:00:00",
          "2021-11-30T00:00:00",
          "2021-12-02T00:00:00",
          "2021-12-04T00:00:00",
          "2021-12-06T00:00:00",
          "2021-12-08T00:00:00",
          "2021-12-10T00:00:00",
          "2021-12-12T00:00:00",
          "2021-12-14T00:00:00",
          "2021-12-16T00:00:00",
          "2021-12-18T00:00:00",
          "2021-12-20T00:00:00",
          "2021-12-22T00:00:00",
          "2021-12-24T00:00:00",
          "2021-12-26T00:00:00",
          "2021-12-28T00:00:00",
          "2021-12-30T00:00:00",
          "2022-01-01T00:00:00",
          "2022-01-03T00:00:00",
          "2022-01-05T00:00:00",
          "2022-01-07T00:00:00",
          "2022-01-09T00:00:00",
          "2022-01-11T00:00:00",
          "2022-01-13T00:00:00",
          "2022-01-15T00:00:00",
          "2022-01-17T00:00:00",
          "2022-01-19T00:00:00",
          "2022-01-21T00:00:00",
          "2022-01-23T00:00:00",
          "2022-01-25T00:00:00",
          "2022-01-27T00:00:00",
          "2022-01-29T00:00:00",
          "2022-01-31T00:00:00",
          "2022-02-02T00:00:00",
          "2022-02-04T00:00:00",
          "2022-02-06T00:00:00",
          "2022-02-08T00:00:00",
          "2022-02-10T00:00:00",
          "2022-02-12T00:00:00",
          "2022-02-14T00:00:00",
          "2022-02-16T00:00:00",
          "2022-02-18T00:00:00",
          "2022-02-20T00:00:00",
          "2022-02-22T00:00:00",
          "2022-02-24T00:00:00",
          "2022-02-26T00:00:00",
          "2022-02-28T00:00:00",
          "2022-03-02T00:00:00",
          "2022-03-04T00:00:00",
          "2022-03-06T00:00:00",
          "2022-03-08T00:00:00",
          "2022-03-10T00:00:00",
          "2022-03-12T00:00:00",
          "2022-03-14T00:00:00",
          "2022-03-16T00:00:00",
          "2022-03-18T00:00:00",
          "2022-03-20T00:00:00",
          "2022-03-22T00:00:00",
          "2022-03-24T00:00:00",
          "2022-03-26T00:00:00",
          "2022-03-28T00:00:00",
          "2022-03-30T00:00:00",
          "2022-04-01T00:00:00",
          "2022-04-03T00:00:00",
          "2022-04-05T00:00:00",
          "2022-04-07T00:00:00",
          "2022-04-09T00:00:00",
          "2022-04-11T00:00:00",
          "2022-04-13T00:00:00",
          "2022-04-15T00:00:00",
          "2022-04-17T00:00:00",
          "2022-04-19T00:00:00",
          "2022-04-21T00:00:00",
          "2022-04-23T00:00:00",
          "2022-04-25T00:00:00",
          "2022-04-27T00:00:00",
          "2022-04-29T00:00:00",
          "2022-05-01T00:00:00",
          "2022-05-03T00:00:00",
          "2022-05-05T00:00:00",
          "2022-05-07T00:00:00",
          "2022-05-09T00:00:00",
          "2022-05-11T00:00:00",
          "2022-05-13T00:00:00",
          "2022-05-15T00:00:00",
          "2022-05-17T00:00:00",
          "2022-05-19T00:00:00",
          "2022-05-21T00:00:00",
          "2022-05-23T00:00:00",
          "2022-05-25T00:00:00",
          "2022-05-27T00:00:00",
          "2022-05-29T00:00:00",
          "2022-05-31T00:00:00",
          "2022-06-02T00:00:00",
          "2022-06-04T00:00:00",
          "2022-06-06T00:00:00",
          "2022-06-08T00:00:00",
          "2022-06-10T00:00:00",
          "2022-06-12T00:00:00",
          "2022-06-14T00:00:00",
          "2022-06-16T00:00:00",
          "2022-06-18T00:00:00",
          "2022-06-20T00:00:00",
          "2022-06-22T00:00:00",
          "2022-06-24T00:00:00",
          "2022-06-26T00:00:00",
          "2022-06-28T00:00:00",
          "2022-06-30T00:00:00",
          "2022-07-02T00:00:00",
          "2022-07-04T00:00:00",
          "2022-07-06T00:00:00",
          "2022-07-08T00:00:00",
          "2022-07-10T00:00:00",
          "2022-07-12T00:00:00",
          "2022-07-14T00:00:00",
          "2022-07-16T00:00:00",
          "2022-07-18T00:00:00",
          "2022-07-20T00:00:00",
          "2022-07-22T00:00:00",
          "2022-07-24T00:00:00",
          "2022-07-26T00:00:00",
          "2022-07-28T00:00:00",
          "2022-07-30T00:00:00",
          "2022-08-01T00:00:00",
          "2022-08-03T00:00:00",
          "2022-08-05T00:00:00",
          "2022-08-07T00:00:00",
          "2022-08-09T00:00:00",
          "2022-08-11T00:00:00",
          "2022-08-13T00:00:00",
          "2022-08-15T00:00:00",
          "2022-08-17T00:00:00",
          "2022-08-19T00:00:00",
          "2022-08-21T00:00:00",
          "2022-08-23T00:00:00",
          "2022-08-25T00:00:00",
          "2022-08-27T00:00:00",
          "2022-08-29T00:00:00",
          "2022-08-31T00:00:00",
          "2022-09-02T00:00:00",
          "2022-09-04T00:00:00",
          "2022-09-06T00:00:00",
          "2022-09-08T00:00:00",
          "2022-09-10T00:00:00",
          "2022-09-12T00:00:00",
          "2022-09-14T00:00:00",
          "2022-09-16T00:00:00",
          "2022-09-18T00:00:00",
          "2022-09-20T00:00:00",
          "2022-09-22T00:00:00",
          "2022-09-24T00:00:00",
          "2022-09-26T00:00:00",
          "2022-09-28T00:00:00",
          "2022-09-30T00:00:00",
          "2022-10-02T00:00:00",
          "2022-10-04T00:00:00",
          "2022-10-06T00:00:00",
          "2022-10-08T00:00:00",
          "2022-10-10T00:00:00",
          "2022-10-12T00:00:00",
          "2022-10-14T00:00:00",
          "2022-10-16T00:00:00",
          "2022-10-18T00:00:00",
          "2022-10-20T00:00:00",
          "2022-10-22T00:00:00",
          "2022-10-24T00:00:00",
          "2022-10-26T00:00:00",
          "2022-10-28T00:00:00",
          "2022-10-30T00:00:00",
          "2022-11-01T00:00:00",
          "2022-11-03T00:00:00",
          "2022-11-05T00:00:00",
          "2022-11-07T00:00:00",
          "2022-11-09T00:00:00",
          "2022-11-11T00:00:00",
          "2022-11-13T00:00:00",
          "2022-11-15T00:00:00",
          "2022-11-17T00:00:00",
          "2022-11-19T00:00:00",
          "2022-11-21T00:00:00",
          "2022-11-23T00:00:00",
          "2022-11-25T00:00:00",
          "2022-11-27T00:00:00",
          "2022-11-29T00:00:00",
          "2022-12-01T00:00:00",
          "2022-12-03T00:00:00",
          "2022-12-05T00:00:00",
          "2022-12-07T00:00:00",
          "2022-12-09T00:00:00",
          "2022-12-11T00:00:00",
          "2022-12-13T00:00:00",
          "2022-12-15T00:00:00",
          "2022-12-17T00:00:00",
          "2022-12-19T00:00:00",
          "2022-12-21T00:00:00",
          "2022-12-23T00:00:00",
          "2022-12-25T00:00:00",
          "2022-12-27T00:00:00",
          "2022-12-29T00:00:00",
          "2022-12-31T00:00:00",
          "2023-01-02T00:00:00",
          "2023-01-04T00:00:00",
          "2023-01-06T00:00:00",
          "2023-01-08T00:00:00"
         ],
         "y": [
          761.6599326585714,
          709.1431181057143,
          685.7674664542857,
          496.9577729714286,
          437.03056586857144,
          338.10257632714286,
          414.98456923285715,
          422.8004072242857,
          346.39302548571425,
          426.1007494171428,
          438.81920014285714,
          405.39024019571434,
          387.4809195114285,
          344.86452687571426,
          329.2418274214286,
          301.69711108285713,
          335.10944227428575,
          311.55369721,
          272.61830095857147,
          293.7988591314286,
          237.86386935714285,
          257.0243951885715,
          218.7191015457143,
          306.13095932999994,
          328.9056396542857,
          354.8230584414286,
          454.5979452857143,
          474.56897056428573,
          423.99493210428574,
          417.02342980428574,
          411.5879799771429,
          414.63997843000004,
          379.5003137914286,
          379.42330561571424,
          353.14421627285714,
          408.05879059714283,
          410.4064093714286,
          392.2375260014286,
          388.20954729857147,
          394.9905943328572,
          414.8008643314286,
          395.51104341,
          481.2213272585714,
          496.13840597,
          475.32003252571434,
          476.94093179142857,
          478.93091672857145,
          481.1077790414286,
          451.0818653571429,
          452.9562099385715,
          465.94471386142857,
          468.91406414,
          433.1787415614285,
          419.36671384000005,
          418.68354132142855,
          439.3843243657143,
          463.9324038228571,
          470.2060790585714,
          513.5689273214286,
          409.89681491571434,
          388.4061412742857,
          400.13482635428574,
          438.6560553928571,
          419.8994797185714,
          400.0839092257143,
          339.59577587,
          344.65743955571423,
          344.5199449885714,
          352.4680027885714,
          324.8387809314286,
          307.31463694,
          343.4999670942857,
          316.6604631228571,
          308.0438089828571,
          319.9838323357143,
          309.0893091885714,
          304.70833590142854,
          313.83037078,
          316.65643305714286,
          304.4509620114286,
          325.6422529528571,
          316.71850614285717,
          307.12205058142854,
          344.3814993142857,
          313.1716815514286,
          320.8852803242857,
          360.5628420328572,
          391.6139967600001,
          358.45658958,
          364.05826333571434,
          359.24078574714287,
          337.3532247528571,
          348.53001225714286,
          337.6398844,
          320.58885951857144,
          308.5165072357143,
          309.5253081385714,
          289.47591552,
          288.43667172285717,
          268.29456222285717,
          288.27064137857144,
          274.74666876714286,
          256.83956161142856,
          209.40799778285714,
          223.30082466142858,
          196.21731960285715,
          194.71466439000002,
          179.7597904957143,
          192.05758974714286,
          204.57395369,
          196.82104095999998,
          192.42006720571428,
          233.42700804142856,
          227.16234426,
          243.30785857285716,
          200.85837795285715,
          197.3068618057143,
          209.56152003714283,
          225.28154292428573,
          204.06586286428572,
          186.95148630428574,
          182.05843961000002,
          197.47775719428572,
          190.22379168142857,
          191.4531679542857,
          176.38600813,
          166.88108915285713,
          121.27791756857143,
          122.88162444142857,
          125.81289113285713,
          122.84826593285713,
          118.31092500285715,
          127.42134386142857,
          122.20643541857143,
          135.85770978285714,
          146.51698083,
          145.03155250857142,
          127.91983284714284,
          125.05205664714286,
          134.3682397042857,
          123.63716040285715,
          121.56543071,
          110.42075537000001,
          111.30002941428572,
          111.99664649142858,
          107.57712289285713,
          125.00411342142856,
          117.18058287142857,
          109.83119529857143,
          100.12588117142857,
          109.83482840428572,
          101.47934953857144,
          100.29044798142857,
          104.3233014242857,
          113.48902367571428,
          120.61192028142857,
          113.81616184857144,
          114.85095196714285,
          115.53555168857143,
          123.39979798571429,
          142.8253840642857,
          148.89269914857144,
          152.58838745999998,
          159.93296378142855,
          137.95964850285714,
          137.3327501985714,
          137.66591719428573,
          126.08263925285713,
          143.8398857685714,
          144.11700384714285,
          139.19533123142858,
          144.38814955,
          135.18519786285714,
          130.39056127857143,
          120.99817829285713,
          123.33873510571428,
          108.47185108142857,
          103.13875304428572,
          113.11182709714285,
          103.17481739285715,
          98.87177732428572,
          86.24352902857142,
          60.79501975714286,
          69.44123086571429,
          68.54961337571429,
          65.69058426428572,
          65.88924922714286,
          70.33568753428573,
          68.68611367142857,
          60.17700813857142,
          56.8197662,
          62.606281724285715,
          58.67432582857143,
          56.24936482714286,
          58.553077481428566,
          58.056523482857145,
          55.67787319000001,
          45.79640885999999,
          35.36360284571428,
          34.48683240857143,
          32.25090742428572,
          31.90410526,
          39.86348954714286,
          43.01478447428572,
          53.36939028142858,
          49.450571939999996,
          49.67642553857143,
          47.985610008571435,
          49.62586069,
          46.738561819999994,
          48.378025537142854,
          54.80255489857143,
          49.750248979999995,
          47.66629071285714,
          56.40368452714286,
          54.81683067142857,
          61.256855019999996,
          57.94848117714285,
          55.11800582714285,
          51.33395803714286,
          54.99407967714286,
          57.77305862285714,
          58.35307719857143,
          57.397197115714285,
          56.45696691285714,
          64.69138298428571,
          63.18633960285714,
          65.12360331428572,
          64.92529968,
          63.049548112857146,
          61.01832382428571,
          58.267331985714286,
          48.98577821285715,
          49.81575936428571,
          51.45886723571429,
          47.09775136285714,
          45.46780174857143,
          47.84306094714286,
          47.17588820714286,
          47.67421201,
          48.05125500428572,
          48.09416928,
          51.983109150000004,
          55.70738361285714,
          55.22290863714285,
          56.81135257714285,
          54.145218511428574,
          52.377769301428565,
          57.24523956,
          63.32924506714286,
          62.52246812,
          61.95251989714286,
          61.884607671428576,
          61.02299011142857,
          60.16574343857143,
          59.080579615714285,
          58.59874173285714,
          59.25284727,
          55.837831862857136,
          54.620639094285714,
          54.80005882428571,
          54.584407424285715,
          51.30431300428571,
          49.71949681571429,
          50.852642097142855,
          51.09185371142858,
          50.95439953714286,
          51.083161042857135,
          50.07607706,
          46.32564283571429,
          51.49428247714285,
          49.93030902714286,
          41.66555027571428,
          40.520193888571434,
          37.859137714285716,
          38.513808954285714,
          39.69511256142857,
          38.524058597142854,
          38.46638824285714,
          37.60131117714286,
          37.77777619142857,
          37.97142835714286,
          36.86719525428571,
          37.67217385857142,
          38.17618864714286,
          37.55144250571429,
          38.198030182857146,
          38.32558092,
          39.52027001,
          38.94255789714286,
          39.52482438571428,
          35.226976594285716,
          33.694690005714286,
          33.47073407428571,
          32.85350519714286,
          32.845194212857145,
          32.04813844142857,
          32.422491050000005,
          30.50016595285714,
          31.646451862857145,
          31.122877855714282,
          33.10729817285714,
          34.07246222285715,
          35.917484665714284
         ]
        }
       ],
       "layout": {
        "autosize": true,
        "font": {
         "size": 18
        },
        "template": {
         "data": {
          "bar": [
           {
            "error_x": {
             "color": "#2a3f5f"
            },
            "error_y": {
             "color": "#2a3f5f"
            },
            "marker": {
             "line": {
              "color": "white",
              "width": 0.5
             },
             "pattern": {
              "fillmode": "overlay",
              "size": 10,
              "solidity": 0.2
             }
            },
            "type": "bar"
           }
          ],
          "barpolar": [
           {
            "marker": {
             "line": {
              "color": "white",
              "width": 0.5
             },
             "pattern": {
              "fillmode": "overlay",
              "size": 10,
              "solidity": 0.2
             }
            },
            "type": "barpolar"
           }
          ],
          "carpet": [
           {
            "aaxis": {
             "endlinecolor": "#2a3f5f",
             "gridcolor": "#C8D4E3",
             "linecolor": "#C8D4E3",
             "minorgridcolor": "#C8D4E3",
             "startlinecolor": "#2a3f5f"
            },
            "baxis": {
             "endlinecolor": "#2a3f5f",
             "gridcolor": "#C8D4E3",
             "linecolor": "#C8D4E3",
             "minorgridcolor": "#C8D4E3",
             "startlinecolor": "#2a3f5f"
            },
            "type": "carpet"
           }
          ],
          "choropleth": [
           {
            "colorbar": {
             "outlinewidth": 0,
             "ticks": ""
            },
            "type": "choropleth"
           }
          ],
          "contour": [
           {
            "colorbar": {
             "outlinewidth": 0,
             "ticks": ""
            },
            "colorscale": [
             [
              0,
              "#0d0887"
             ],
             [
              0.1111111111111111,
              "#46039f"
             ],
             [
              0.2222222222222222,
              "#7201a8"
             ],
             [
              0.3333333333333333,
              "#9c179e"
             ],
             [
              0.4444444444444444,
              "#bd3786"
             ],
             [
              0.5555555555555556,
              "#d8576b"
             ],
             [
              0.6666666666666666,
              "#ed7953"
             ],
             [
              0.7777777777777778,
              "#fb9f3a"
             ],
             [
              0.8888888888888888,
              "#fdca26"
             ],
             [
              1,
              "#f0f921"
             ]
            ],
            "type": "contour"
           }
          ],
          "contourcarpet": [
           {
            "colorbar": {
             "outlinewidth": 0,
             "ticks": ""
            },
            "type": "contourcarpet"
           }
          ],
          "heatmap": [
           {
            "colorbar": {
             "outlinewidth": 0,
             "ticks": ""
            },
            "colorscale": [
             [
              0,
              "#0d0887"
             ],
             [
              0.1111111111111111,
              "#46039f"
             ],
             [
              0.2222222222222222,
              "#7201a8"
             ],
             [
              0.3333333333333333,
              "#9c179e"
             ],
             [
              0.4444444444444444,
              "#bd3786"
             ],
             [
              0.5555555555555556,
              "#d8576b"
             ],
             [
              0.6666666666666666,
              "#ed7953"
             ],
             [
              0.7777777777777778,
              "#fb9f3a"
             ],
             [
              0.8888888888888888,
              "#fdca26"
             ],
             [
              1,
              "#f0f921"
             ]
            ],
            "type": "heatmap"
           }
          ],
          "heatmapgl": [
           {
            "colorbar": {
             "outlinewidth": 0,
             "ticks": ""
            },
            "colorscale": [
             [
              0,
              "#0d0887"
             ],
             [
              0.1111111111111111,
              "#46039f"
             ],
             [
              0.2222222222222222,
              "#7201a8"
             ],
             [
              0.3333333333333333,
              "#9c179e"
             ],
             [
              0.4444444444444444,
              "#bd3786"
             ],
             [
              0.5555555555555556,
              "#d8576b"
             ],
             [
              0.6666666666666666,
              "#ed7953"
             ],
             [
              0.7777777777777778,
              "#fb9f3a"
             ],
             [
              0.8888888888888888,
              "#fdca26"
             ],
             [
              1,
              "#f0f921"
             ]
            ],
            "type": "heatmapgl"
           }
          ],
          "histogram": [
           {
            "marker": {
             "pattern": {
              "fillmode": "overlay",
              "size": 10,
              "solidity": 0.2
             }
            },
            "type": "histogram"
           }
          ],
          "histogram2d": [
           {
            "colorbar": {
             "outlinewidth": 0,
             "ticks": ""
            },
            "colorscale": [
             [
              0,
              "#0d0887"
             ],
             [
              0.1111111111111111,
              "#46039f"
             ],
             [
              0.2222222222222222,
              "#7201a8"
             ],
             [
              0.3333333333333333,
              "#9c179e"
             ],
             [
              0.4444444444444444,
              "#bd3786"
             ],
             [
              0.5555555555555556,
              "#d8576b"
             ],
             [
              0.6666666666666666,
              "#ed7953"
             ],
             [
              0.7777777777777778,
              "#fb9f3a"
             ],
             [
              0.8888888888888888,
              "#fdca26"
             ],
             [
              1,
              "#f0f921"
             ]
            ],
            "type": "histogram2d"
           }
          ],
          "histogram2dcontour": [
           {
            "colorbar": {
             "outlinewidth": 0,
             "ticks": ""
            },
            "colorscale": [
             [
              0,
              "#0d0887"
             ],
             [
              0.1111111111111111,
              "#46039f"
             ],
             [
              0.2222222222222222,
              "#7201a8"
             ],
             [
              0.3333333333333333,
              "#9c179e"
             ],
             [
              0.4444444444444444,
              "#bd3786"
             ],
             [
              0.5555555555555556,
              "#d8576b"
             ],
             [
              0.6666666666666666,
              "#ed7953"
             ],
             [
              0.7777777777777778,
              "#fb9f3a"
             ],
             [
              0.8888888888888888,
              "#fdca26"
             ],
             [
              1,
              "#f0f921"
             ]
            ],
            "type": "histogram2dcontour"
           }
          ],
          "mesh3d": [
           {
            "colorbar": {
             "outlinewidth": 0,
             "ticks": ""
            },
            "type": "mesh3d"
           }
          ],
          "parcoords": [
           {
            "line": {
             "colorbar": {
              "outlinewidth": 0,
              "ticks": ""
             }
            },
            "type": "parcoords"
           }
          ],
          "pie": [
           {
            "automargin": true,
            "type": "pie"
           }
          ],
          "scatter": [
           {
            "fillpattern": {
             "fillmode": "overlay",
             "size": 10,
             "solidity": 0.2
            },
            "type": "scatter"
           }
          ],
          "scatter3d": [
           {
            "line": {
             "colorbar": {
              "outlinewidth": 0,
              "ticks": ""
             }
            },
            "marker": {
             "colorbar": {
              "outlinewidth": 0,
              "ticks": ""
             }
            },
            "type": "scatter3d"
           }
          ],
          "scattercarpet": [
           {
            "marker": {
             "colorbar": {
              "outlinewidth": 0,
              "ticks": ""
             }
            },
            "type": "scattercarpet"
           }
          ],
          "scattergeo": [
           {
            "marker": {
             "colorbar": {
              "outlinewidth": 0,
              "ticks": ""
             }
            },
            "type": "scattergeo"
           }
          ],
          "scattergl": [
           {
            "marker": {
             "colorbar": {
              "outlinewidth": 0,
              "ticks": ""
             }
            },
            "type": "scattergl"
           }
          ],
          "scattermapbox": [
           {
            "marker": {
             "colorbar": {
              "outlinewidth": 0,
              "ticks": ""
             }
            },
            "type": "scattermapbox"
           }
          ],
          "scatterpolar": [
           {
            "marker": {
             "colorbar": {
              "outlinewidth": 0,
              "ticks": ""
             }
            },
            "type": "scatterpolar"
           }
          ],
          "scatterpolargl": [
           {
            "marker": {
             "colorbar": {
              "outlinewidth": 0,
              "ticks": ""
             }
            },
            "type": "scatterpolargl"
           }
          ],
          "scatterternary": [
           {
            "marker": {
             "colorbar": {
              "outlinewidth": 0,
              "ticks": ""
             }
            },
            "type": "scatterternary"
           }
          ],
          "surface": [
           {
            "colorbar": {
             "outlinewidth": 0,
             "ticks": ""
            },
            "colorscale": [
             [
              0,
              "#0d0887"
             ],
             [
              0.1111111111111111,
              "#46039f"
             ],
             [
              0.2222222222222222,
              "#7201a8"
             ],
             [
              0.3333333333333333,
              "#9c179e"
             ],
             [
              0.4444444444444444,
              "#bd3786"
             ],
             [
              0.5555555555555556,
              "#d8576b"
             ],
             [
              0.6666666666666666,
              "#ed7953"
             ],
             [
              0.7777777777777778,
              "#fb9f3a"
             ],
             [
              0.8888888888888888,
              "#fdca26"
             ],
             [
              1,
              "#f0f921"
             ]
            ],
            "type": "surface"
           }
          ],
          "table": [
           {
            "cells": {
             "fill": {
              "color": "#EBF0F8"
             },
             "line": {
              "color": "white"
             }
            },
            "header": {
             "fill": {
              "color": "#C8D4E3"
             },
             "line": {
              "color": "white"
             }
            },
            "type": "table"
           }
          ]
         },
         "layout": {
          "annotationdefaults": {
           "arrowcolor": "#2a3f5f",
           "arrowhead": 0,
           "arrowwidth": 1
          },
          "autotypenumbers": "strict",
          "coloraxis": {
           "colorbar": {
            "outlinewidth": 0,
            "ticks": ""
           }
          },
          "colorscale": {
           "diverging": [
            [
             0,
             "#8e0152"
            ],
            [
             0.1,
             "#c51b7d"
            ],
            [
             0.2,
             "#de77ae"
            ],
            [
             0.3,
             "#f1b6da"
            ],
            [
             0.4,
             "#fde0ef"
            ],
            [
             0.5,
             "#f7f7f7"
            ],
            [
             0.6,
             "#e6f5d0"
            ],
            [
             0.7,
             "#b8e186"
            ],
            [
             0.8,
             "#7fbc41"
            ],
            [
             0.9,
             "#4d9221"
            ],
            [
             1,
             "#276419"
            ]
           ],
           "sequential": [
            [
             0,
             "#0d0887"
            ],
            [
             0.1111111111111111,
             "#46039f"
            ],
            [
             0.2222222222222222,
             "#7201a8"
            ],
            [
             0.3333333333333333,
             "#9c179e"
            ],
            [
             0.4444444444444444,
             "#bd3786"
            ],
            [
             0.5555555555555556,
             "#d8576b"
            ],
            [
             0.6666666666666666,
             "#ed7953"
            ],
            [
             0.7777777777777778,
             "#fb9f3a"
            ],
            [
             0.8888888888888888,
             "#fdca26"
            ],
            [
             1,
             "#f0f921"
            ]
           ],
           "sequentialminus": [
            [
             0,
             "#0d0887"
            ],
            [
             0.1111111111111111,
             "#46039f"
            ],
            [
             0.2222222222222222,
             "#7201a8"
            ],
            [
             0.3333333333333333,
             "#9c179e"
            ],
            [
             0.4444444444444444,
             "#bd3786"
            ],
            [
             0.5555555555555556,
             "#d8576b"
            ],
            [
             0.6666666666666666,
             "#ed7953"
            ],
            [
             0.7777777777777778,
             "#fb9f3a"
            ],
            [
             0.8888888888888888,
             "#fdca26"
            ],
            [
             1,
             "#f0f921"
            ]
           ]
          },
          "colorway": [
           "#636efa",
           "#EF553B",
           "#00cc96",
           "#ab63fa",
           "#FFA15A",
           "#19d3f3",
           "#FF6692",
           "#B6E880",
           "#FF97FF",
           "#FECB52"
          ],
          "font": {
           "color": "#2a3f5f"
          },
          "geo": {
           "bgcolor": "white",
           "lakecolor": "white",
           "landcolor": "white",
           "showlakes": true,
           "showland": true,
           "subunitcolor": "#C8D4E3"
          },
          "hoverlabel": {
           "align": "left"
          },
          "hovermode": "closest",
          "mapbox": {
           "style": "light"
          },
          "paper_bgcolor": "white",
          "plot_bgcolor": "white",
          "polar": {
           "angularaxis": {
            "gridcolor": "#EBF0F8",
            "linecolor": "#EBF0F8",
            "ticks": ""
           },
           "bgcolor": "white",
           "radialaxis": {
            "gridcolor": "#EBF0F8",
            "linecolor": "#EBF0F8",
            "ticks": ""
           }
          },
          "scene": {
           "xaxis": {
            "backgroundcolor": "white",
            "gridcolor": "#DFE8F3",
            "gridwidth": 2,
            "linecolor": "#EBF0F8",
            "showbackground": true,
            "ticks": "",
            "zerolinecolor": "#EBF0F8"
           },
           "yaxis": {
            "backgroundcolor": "white",
            "gridcolor": "#DFE8F3",
            "gridwidth": 2,
            "linecolor": "#EBF0F8",
            "showbackground": true,
            "ticks": "",
            "zerolinecolor": "#EBF0F8"
           },
           "zaxis": {
            "backgroundcolor": "white",
            "gridcolor": "#DFE8F3",
            "gridwidth": 2,
            "linecolor": "#EBF0F8",
            "showbackground": true,
            "ticks": "",
            "zerolinecolor": "#EBF0F8"
           }
          },
          "shapedefaults": {
           "line": {
            "color": "#2a3f5f"
           }
          },
          "ternary": {
           "aaxis": {
            "gridcolor": "#DFE8F3",
            "linecolor": "#A2B1C6",
            "ticks": ""
           },
           "baxis": {
            "gridcolor": "#DFE8F3",
            "linecolor": "#A2B1C6",
            "ticks": ""
           },
           "bgcolor": "white",
           "caxis": {
            "gridcolor": "#DFE8F3",
            "linecolor": "#A2B1C6",
            "ticks": ""
           }
          },
          "title": {
           "x": 0.05
          },
          "xaxis": {
           "automargin": true,
           "gridcolor": "#EBF0F8",
           "linecolor": "#EBF0F8",
           "ticks": "",
           "title": {
            "standoff": 15
           },
           "zerolinecolor": "#EBF0F8",
           "zerolinewidth": 2
          },
          "yaxis": {
           "automargin": true,
           "gridcolor": "#EBF0F8",
           "linecolor": "#EBF0F8",
           "ticks": "",
           "title": {
            "standoff": 15
           },
           "zerolinecolor": "#EBF0F8",
           "zerolinewidth": 2
          }
         }
        },
        "title": {
         "text": "Chainlink price for COMP / USD"
        },
        "xaxis": {
         "rangeslider": {
          "visible": false
         }
        },
        "yaxis": {
         "title": {
          "text": "Price USD"
         }
        }
       }
      }
     },
     "metadata": {},
     "output_type": "display_data"
    }
   ],
   "source": [
    "data = chainlink_price_df.set_index('updatedAt').current\n",
    "data.resample(window['period'])\n",
    "sma = data.rolling(min_periods=1, window=window['days'],\n",
    "                   center=False).mean().resample('2D').last()\n",
    "fig = plot_ohlc(data.resample(window['period']).ohlc(),\n",
    "                title='Chainlink price for COMP / USD')\n",
    "fig.add_trace(go.Scatter(x=sma.index, y=sma, mode='lines',\n",
    "              name='Price', line=dict(color='#42bbf1', width=4)))\n",
    "fig.update_layout(font=dict(size=18))\n",
    "fig.show()\n"
   ]
  },
  {
   "cell_type": "code",
   "execution_count": 11,
   "metadata": {},
   "outputs": [
    {
     "data": {
      "image/png": "[encoded data removed]"
     },
     "metadata": {},
     "output_type": "display_data"
    }
   ],
   "source": [
    "data = chainlink_price_df.set_index('updatedAt').current\n",
    "data.resample(window['period'])\n",
    "sma = data.rolling(min_periods=1, window=window['days'],\n",
    "                   center=False).mean().resample('2D').last()\n",
    "fig = plot_ohlc(data.resample(window['period']).ohlc(),\n",
    "                title='Chainlink price for COMP / USD')\n",
    "fig.add_trace(go.Scatter(x=sma.index, y=sma, mode='lines',\n",
    "              name='Price', line=dict(color='#42bbf1', width=4)))\n",
    "fig.update_layout(width=1000, height=500, font=dict(size=18))\n",
    "fig.show('png')\n"
   ]
  },
  {
   "cell_type": "code",
   "execution_count": 12,
   "metadata": {},
   "outputs": [],
   "source": [
    "percentiles = [.01, .05, .1, .2, .25, .50, .75, .8, .9, .95, .99]\n"
   ]
  },
  {
   "cell_type": "code",
   "execution_count": 13,
   "metadata": {},
   "outputs": [
    {
     "data": {
      "text/plain": [
       "count    21084.000000000000000000\n",
       "mean       202.242558082706295863\n",
       "std        163.958530003805577735\n",
       "min         26.618048600000001613\n",
       "1%          31.303863946900001736\n",
       "5%          36.342143799500000512\n",
       "10%         40.092639979000004757\n",
       "20%         51.743435196000000076\n",
       "25%         55.913651817499996355\n",
       "50%        135.070844954999984111\n",
       "75%        335.480180010000026414\n",
       "80%        370.861657764000028692\n",
       "90%        427.084256659999994099\n",
       "95%        473.833241983999982949\n",
       "99%        692.356327091599496271\n",
       "max        857.035787400000003800\n",
       "Name: current, dtype: float64"
      ]
     },
     "execution_count": 13,
     "metadata": {},
     "output_type": "execute_result"
    }
   ],
   "source": [
    "chainlink_price_df['current'].describe(percentiles=percentiles)\n"
   ]
  }
 ],
 "metadata": {
  "kernelspec": {
   "display_name": "Python 3 (ipykernel)",
   "language": "python",
   "name": "python3"
  },
  "language_info": {
   "codemirror_mode": {
    "name": "ipython",
    "version": 3
   },
   "file_extension": ".py",
   "mimetype": "text/x-python",
   "name": "python",
   "nbconvert_exporter": "python",
   "pygments_lexer": "ipython3",
   "version": "3.9.15"
  },
  "vscode": {
   "interpreter": {
    "hash": "6bd8b46ca67c25b983e7f9b3b8943b09e20530dbd7da3cf00ac83a70f09f8b15"
   }
  }
 },
 "nbformat": 4,
 "nbformat_minor": 2
}
